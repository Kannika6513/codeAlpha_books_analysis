{
 "cells": [
  {
   "cell_type": "code",
   "execution_count": null,
   "id": "a0e3716c-a1cb-419b-8d57-62d7e4244535",
   "metadata": {},
   "outputs": [],
   "source": [
    "Exploratory Data Analysis"
   ]
  },
  {
   "cell_type": "code",
   "execution_count": 5,
   "id": "a22ea99e-bfc5-43b0-9900-ed8ff0d9dfbe",
   "metadata": {},
   "outputs": [],
   "source": [
    "import pandas as pd\n",
    "import matplotlib.pyplot as plt\n",
    "import seaborn as sns\n",
    "\n",
    "df = pd.read_csv(\"scraped_bookdata.csv\")\n",
    "sns.set(style=\"whitegrid\")"
   ]
  },
  {
   "cell_type": "code",
   "execution_count": 7,
   "id": "47455380-53e3-419a-a6c7-3b6d2b67db3f",
   "metadata": {},
   "outputs": [
    {
     "name": "stdout",
     "output_type": "stream",
     "text": [
      "\n",
      " First 5 Records:\n",
      "                                   Title  Price (GBP)  Rating  \\\n",
      "0                   A Light in the Attic        51.77       3   \n",
      "1                     Tipping the Velvet        53.74       1   \n",
      "2                             Soumission        50.10       1   \n",
      "3                          Sharp Objects        47.82       4   \n",
      "4  Sapiens: A Brief History of Humankind        54.23       5   \n",
      "\n",
      "                Genre  \n",
      "0              Poetry  \n",
      "1  Historical Fiction  \n",
      "2             Fiction  \n",
      "3             Mystery  \n",
      "4             History  \n"
     ]
    }
   ],
   "source": [
    "print(\"\\n First 5 Records:\")\n",
    "print(df.head())"
   ]
  },
  {
   "cell_type": "code",
   "execution_count": 9,
   "id": "014a5ad3-7920-4ed2-825b-b5de25b9714b",
   "metadata": {},
   "outputs": [
    {
     "name": "stdout",
     "output_type": "stream",
     "text": [
      "\n",
      " Missing Values:\n",
      "Title          0\n",
      "Price (GBP)    0\n",
      "Rating         0\n",
      "Genre          0\n",
      "dtype: int64\n"
     ]
    }
   ],
   "source": [
    "print(\"\\n Missing Values:\")\n",
    "print(df.isnull().sum())"
   ]
  },
  {
   "cell_type": "code",
   "execution_count": 11,
   "id": "d3fe4419-8824-4d7a-8db1-fd0205ac6999",
   "metadata": {},
   "outputs": [
    {
     "name": "stdout",
     "output_type": "stream",
     "text": [
      "\n",
      " Basic Statistics:\n",
      "       Price (GBP)       Rating\n",
      "count   1000.00000  1000.000000\n",
      "mean      35.07035     2.923000\n",
      "std       14.44669     1.434967\n",
      "min       10.00000     1.000000\n",
      "25%       22.10750     2.000000\n",
      "50%       35.98000     3.000000\n",
      "75%       47.45750     4.000000\n",
      "max       59.99000     5.000000\n"
     ]
    }
   ],
   "source": [
    "print(\"\\n Basic Statistics:\")\n",
    "print(df.describe())"
   ]
  },
  {
   "cell_type": "code",
   "execution_count": 13,
   "id": "1f00b6ba-ddb9-4619-b14d-29d6dab57f9f",
   "metadata": {},
   "outputs": [
    {
     "name": "stdout",
     "output_type": "stream",
     "text": [
      "\n",
      " Unique Ratings:\n",
      "\n",
      "Rating\n",
      "1    226\n",
      "3    203\n",
      "5    196\n",
      "2    196\n",
      "4    179\n",
      "Name: count, dtype: int64\n"
     ]
    }
   ],
   "source": [
    "print(\"\\n Unique Ratings:\\n\")\n",
    "print(df['Rating'].value_counts())"
   ]
  },
  {
   "cell_type": "code",
   "execution_count": 15,
   "id": "e4695335-9c05-43f3-aa24-431f63601e6a",
   "metadata": {},
   "outputs": [
    {
     "name": "stdout",
     "output_type": "stream",
     "text": [
      "\n",
      " Unique Genres:\n",
      "\n",
      "Genre\n",
      "Default               152\n",
      "Nonfiction            110\n",
      "Sequential Art         75\n",
      "Add a comment          67\n",
      "Fiction                65\n",
      "Young Adult            54\n",
      "Fantasy                48\n",
      "Romance                35\n",
      "Mystery                32\n",
      "Food and Drink         30\n",
      "Childrens              29\n",
      "Historical Fiction     26\n",
      "Poetry                 19\n",
      "Classics               19\n",
      "History                18\n",
      "Horror                 17\n",
      "Womens Fiction         17\n",
      "Science Fiction        16\n",
      "Science                14\n",
      "Music                  13\n",
      "Business               12\n",
      "Thriller               11\n",
      "Travel                 11\n",
      "Philosophy             11\n",
      "Humor                  10\n",
      "Autobiography           9\n",
      "Art                     8\n",
      "Psychology              7\n",
      "Religion                7\n",
      "Spirituality            6\n",
      "Christian Fiction       6\n",
      "New Adult               6\n",
      "Sports and Games        5\n",
      "Biography               5\n",
      "Self Help               5\n",
      "Health                  4\n",
      "Christian               3\n",
      "Politics                3\n",
      "Contemporary            3\n",
      "Historical              2\n",
      "Crime                   1\n",
      "Erotica                 1\n",
      "Cultural                1\n",
      "Novels                  1\n",
      "Short Stories           1\n",
      "Suspense                1\n",
      "Academic                1\n",
      "Adult Fiction           1\n",
      "Parenting               1\n",
      "Paranormal              1\n",
      "Name: count, dtype: int64\n"
     ]
    }
   ],
   "source": [
    "print(\"\\n Unique Genres:\\n\")\n",
    "print(df['Genre'].value_counts())"
   ]
  },
  {
   "cell_type": "code",
   "execution_count": 17,
   "id": "4f2d3b5e-a429-445d-a717-03b811192d71",
   "metadata": {},
   "outputs": [
    {
     "name": "stdout",
     "output_type": "stream",
     "text": [
      "\n",
      " Duplicate Entries:\n",
      "\n",
      "0\n"
     ]
    }
   ],
   "source": [
    "print(\"\\n Duplicate Entries:\\n\")\n",
    "print(df.duplicated().sum())"
   ]
  },
  {
   "cell_type": "code",
   "execution_count": 23,
   "id": "938684ee-5143-4541-824e-41cb08dcf111",
   "metadata": {},
   "outputs": [
    {
     "name": "stdout",
     "output_type": "stream",
     "text": [
      "\n",
      " Average Book Price by Genre:\n",
      "\n",
      "Genre\n",
      "Suspense              58.330000\n",
      "Novels                54.810000\n",
      "Politics              53.613333\n",
      "Health                51.452500\n",
      "New Adult             46.383333\n",
      "Christian             42.496667\n",
      "Sports and Games      41.166000\n",
      "Self Help             40.620000\n",
      "Travel                39.794545\n",
      "Fantasy               39.593958\n",
      "Art                   38.520000\n",
      "Parenting             37.350000\n",
      "History               37.295000\n",
      "Autobiography         37.053333\n",
      "Womens Fiction        36.791176\n",
      "Cultural              36.580000\n",
      "Classics              36.545263\n",
      "Contemporary          36.200000\n",
      "Fiction               36.066615\n",
      "Poetry                35.974211\n",
      "Horror                35.949412\n",
      "Short Stories         35.880000\n",
      "Add a comment         35.796418\n",
      "Music                 35.636923\n",
      "Young Adult           35.449074\n",
      "Spirituality          35.098333\n",
      "Sequential Art        34.572267\n",
      "Default               34.392697\n",
      "Christian Fiction     34.385000\n",
      "Nonfiction            34.260182\n",
      "Psychology            34.218571\n",
      "Romance               33.933714\n",
      "Science Fiction       33.802500\n",
      "Biography             33.662000\n",
      "Historical Fiction    33.644231\n",
      "Philosophy            33.558182\n",
      "Humor                 33.501000\n",
      "Science               33.088571\n",
      "Childrens             32.638276\n",
      "Religion              32.567143\n",
      "Business              32.460000\n",
      "Mystery               31.719062\n",
      "Thriller              31.433636\n",
      "Food and Drink        31.414667\n",
      "Historical            22.830000\n",
      "Erotica               19.190000\n",
      "Paranormal            15.400000\n",
      "Adult Fiction         15.360000\n",
      "Academic              13.120000\n",
      "Crime                 10.970000\n",
      "Name: Price (GBP), dtype: float64\n"
     ]
    }
   ],
   "source": [
    "genre_price = df.groupby('Genre')['Price (GBP)'].mean().sort_values(ascending=False)\n",
    "print(\"\\n Average Book Price by Genre:\\n\")\n",
    "print(genre_price)\n"
   ]
  },
  {
   "cell_type": "code",
   "execution_count": 25,
   "id": "402abb03-3bc1-4205-a713-afdf75004759",
   "metadata": {},
   "outputs": [
    {
     "name": "stdout",
     "output_type": "stream",
     "text": [
      "\n",
      " Potential Outliers in Price (above £100):\n",
      "Empty DataFrame\n",
      "Columns: [Title, Price (GBP), Rating, Genre]\n",
      "Index: []\n"
     ]
    }
   ],
   "source": [
    "print(\"\\n Potential Outliers in Price (above £100):\")\n",
    "print(df[df['Price (GBP)'] > 100])"
   ]
  },
  {
   "cell_type": "code",
   "execution_count": null,
   "id": "bb310a63-42f9-435d-8cb9-bce51e46d270",
   "metadata": {},
   "outputs": [],
   "source": []
  }
 ],
 "metadata": {
  "kernelspec": {
   "display_name": "Python 3 (ipykernel)",
   "language": "python",
   "name": "python3"
  },
  "language_info": {
   "codemirror_mode": {
    "name": "ipython",
    "version": 3
   },
   "file_extension": ".py",
   "mimetype": "text/x-python",
   "name": "python",
   "nbconvert_exporter": "python",
   "pygments_lexer": "ipython3",
   "version": "3.12.7"
  }
 },
 "nbformat": 4,
 "nbformat_minor": 5
}
